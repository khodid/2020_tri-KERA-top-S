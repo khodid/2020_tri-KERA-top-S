{
  "nbformat": 4,
  "nbformat_minor": 0,
  "metadata": {
    "colab": {
      "name": "02_HL-Kim_Single-label-Multiclass-Classification.ipynb",
      "provenance": []
    },
    "kernelspec": {
      "name": "python3",
      "display_name": "Python 3"
    }
  },
  "cells": [
    {
      "cell_type": "markdown",
      "metadata": {
        "id": "pHQnJfu0sEL_"
      },
      "source": [
        "# SAI - I 실습과제 이어서.\n",
        "\n",
        "## 다중 분류 예제\n",
        "\n",
        "- 로이터라는 뉴스 기사 데이터셋을 이용할 것임"
      ]
    },
    {
      "cell_type": "code",
      "metadata": {
        "id": "Ez4VahwwsBhy",
        "outputId": "0d6e7ecb-f6c4-4c47-a898-10b1211eda82",
        "colab": {
          "base_uri": "https://localhost:8080/"
        }
      },
      "source": [
        "from keras.datasets import reuters\n",
        "\n",
        "(train_data, train_labels), (test_data, test_labels) = reuters.load_data(num_words=10000)"
      ],
      "execution_count": 1,
      "outputs": [
        {
          "output_type": "stream",
          "text": [
            "Downloading data from https://storage.googleapis.com/tensorflow/tf-keras-datasets/reuters.npz\n",
            "2113536/2110848 [==============================] - 0s 0us/step\n"
          ],
          "name": "stdout"
        }
      ]
    },
    {
      "cell_type": "code",
      "metadata": {
        "id": "6hncsVGSs2Dp"
      },
      "source": [
        "import numpy as np\n",
        "\n",
        "def vectorize_sequences(sequences, dimension=10000):\n",
        "  results = np.zeros((len(sequences), dimension))\n",
        "  for i, sequence in enumerate(sequences):\n",
        "    results[i, sequence] = 1.\n",
        "  return results"
      ],
      "execution_count": 4,
      "outputs": []
    },
    {
      "cell_type": "code",
      "metadata": {
        "id": "mH8SRmvstUi-"
      },
      "source": [
        "x_train = vectorize_sequences(train_data)\n",
        "x_test = vectorize_sequences(test_data)"
      ],
      "execution_count": 5,
      "outputs": []
    },
    {
      "cell_type": "code",
      "metadata": {
        "id": "RGEJXlyttcj-"
      },
      "source": [
        "# One Hot Encoding\n",
        "def to_one_hot(labels, dimension=46):\n",
        "  results = np.zeros((len(labels), dimension))\n",
        "  for i , label in enumerate(labels):\n",
        "    results[i, label] = 1.\n",
        "  return results\n",
        "\n",
        "one_hot_train_labels = to_one_hot(train_labels)\n",
        "one_hot_test_labels = to_one_hot(test_labels)"
      ],
      "execution_count": 6,
      "outputs": []
    },
    {
      "cell_type": "code",
      "metadata": {
        "id": "FL7q_6dEuKn0"
      },
      "source": [
        "# Keras 내장함수로 One hot encoding\n",
        "\n",
        "# one_hot_labels = to_categorical(labels)"
      ],
      "execution_count": 7,
      "outputs": []
    },
    {
      "cell_type": "markdown",
      "metadata": {
        "id": "HQAJW56kuXuM"
      },
      "source": [
        "## 모델 구성\n",
        "\n",
        "이전 모델에서 출력 공간의 차원을 늘린 것이다."
      ]
    },
    {
      "cell_type": "code",
      "metadata": {
        "id": "8yEM86GtuWvR"
      },
      "source": [
        "from keras import models\n",
        "from keras import layers\n",
        "\n",
        "model = models.Sequential()"
      ],
      "execution_count": 8,
      "outputs": []
    },
    {
      "cell_type": "code",
      "metadata": {
        "id": "1GEgJVUcvW7P"
      },
      "source": [
        "model.add(layers.Dense(64, activation='relu', input_shape = (10000, )))\n",
        "model.add(layers.Dense(64, activation= 'relu'))\n",
        "model.add(layers.Dense(46, activation= 'softmax'))"
      ],
      "execution_count": 9,
      "outputs": []
    },
    {
      "cell_type": "code",
      "metadata": {
        "id": "ca-35VB_vvPS"
      },
      "source": [
        "model.compile(optimizer='rmsprop',\n",
        "              loss = 'categorical_crossentropy', # 이런 문제 유형에 적합한 손실 함수!\n",
        "              metrics = ['accuracy'])"
      ],
      "execution_count": 10,
      "outputs": []
    },
    {
      "cell_type": "code",
      "metadata": {
        "id": "nWgQaC7SwFw0"
      },
      "source": [
        "x_val = x_train[:1000]\n",
        "partial_x_train = x_train[1000:]\n",
        "\n",
        "y_val = one_hot_train_labels[:1000]\n",
        "partial_y_train = one_hot_train_labels[1000:]\n"
      ],
      "execution_count": 11,
      "outputs": []
    },
    {
      "cell_type": "code",
      "metadata": {
        "id": "Sw3Q0Sadwb0_",
        "outputId": "5581d169-e70f-40d9-c005-5cf04fe3466b",
        "colab": {
          "base_uri": "https://localhost:8080/"
        }
      },
      "source": [
        "history = model.fit(partial_x_train, partial_y_train,\n",
        "                    epochs = 20,\n",
        "                    batch_size = 512,\n",
        "                    validation_data = (x_val, y_val))"
      ],
      "execution_count": 13,
      "outputs": [
        {
          "output_type": "stream",
          "text": [
            "Epoch 1/20\n",
            "16/16 [==============================] - 1s 56ms/step - loss: 2.5173 - accuracy: 0.5222 - val_loss: 1.6976 - val_accuracy: 0.6440\n",
            "Epoch 2/20\n",
            "16/16 [==============================] - 1s 44ms/step - loss: 1.3658 - accuracy: 0.7117 - val_loss: 1.2725 - val_accuracy: 0.7300\n",
            "Epoch 3/20\n",
            "16/16 [==============================] - 1s 42ms/step - loss: 1.0085 - accuracy: 0.7897 - val_loss: 1.1111 - val_accuracy: 0.7670\n",
            "Epoch 4/20\n",
            "16/16 [==============================] - 1s 42ms/step - loss: 0.7940 - accuracy: 0.8341 - val_loss: 1.0070 - val_accuracy: 0.7880\n",
            "Epoch 5/20\n",
            "16/16 [==============================] - 1s 43ms/step - loss: 0.6309 - accuracy: 0.8700 - val_loss: 0.9481 - val_accuracy: 0.7910\n",
            "Epoch 6/20\n",
            "16/16 [==============================] - 1s 42ms/step - loss: 0.4999 - accuracy: 0.8978 - val_loss: 0.8984 - val_accuracy: 0.8190\n",
            "Epoch 7/20\n",
            "16/16 [==============================] - 1s 42ms/step - loss: 0.4002 - accuracy: 0.9179 - val_loss: 0.8843 - val_accuracy: 0.8140\n",
            "Epoch 8/20\n",
            "16/16 [==============================] - 1s 41ms/step - loss: 0.3269 - accuracy: 0.9316 - val_loss: 0.8743 - val_accuracy: 0.8180\n",
            "Epoch 9/20\n",
            "16/16 [==============================] - 1s 42ms/step - loss: 0.2723 - accuracy: 0.9380 - val_loss: 0.8919 - val_accuracy: 0.8120\n",
            "Epoch 10/20\n",
            "16/16 [==============================] - 1s 42ms/step - loss: 0.2255 - accuracy: 0.9446 - val_loss: 0.9014 - val_accuracy: 0.8070\n",
            "Epoch 11/20\n",
            "16/16 [==============================] - 1s 41ms/step - loss: 0.1973 - accuracy: 0.9501 - val_loss: 0.9168 - val_accuracy: 0.8130\n",
            "Epoch 12/20\n",
            "16/16 [==============================] - 1s 42ms/step - loss: 0.1736 - accuracy: 0.9531 - val_loss: 0.9474 - val_accuracy: 0.8110\n",
            "Epoch 13/20\n",
            "16/16 [==============================] - 1s 42ms/step - loss: 0.1597 - accuracy: 0.9545 - val_loss: 0.9453 - val_accuracy: 0.8190\n",
            "Epoch 14/20\n",
            "16/16 [==============================] - 1s 42ms/step - loss: 0.1472 - accuracy: 0.9546 - val_loss: 0.9671 - val_accuracy: 0.8140\n",
            "Epoch 15/20\n",
            "16/16 [==============================] - 1s 41ms/step - loss: 0.1342 - accuracy: 0.9579 - val_loss: 1.0014 - val_accuracy: 0.8050\n",
            "Epoch 16/20\n",
            "16/16 [==============================] - 1s 42ms/step - loss: 0.1296 - accuracy: 0.9557 - val_loss: 1.0053 - val_accuracy: 0.8200\n",
            "Epoch 17/20\n",
            "16/16 [==============================] - 1s 44ms/step - loss: 0.1235 - accuracy: 0.9563 - val_loss: 1.0804 - val_accuracy: 0.8050\n",
            "Epoch 18/20\n",
            "16/16 [==============================] - 1s 41ms/step - loss: 0.1187 - accuracy: 0.9551 - val_loss: 1.0470 - val_accuracy: 0.8130\n",
            "Epoch 19/20\n",
            "16/16 [==============================] - 1s 41ms/step - loss: 0.1169 - accuracy: 0.9565 - val_loss: 1.0885 - val_accuracy: 0.8030\n",
            "Epoch 20/20\n",
            "16/16 [==============================] - 1s 42ms/step - loss: 0.1106 - accuracy: 0.9575 - val_loss: 1.1127 - val_accuracy: 0.8010\n"
          ],
          "name": "stdout"
        }
      ]
    },
    {
      "cell_type": "markdown",
      "metadata": {
        "id": "1AUG-RQNw_Ll"
      },
      "source": [
        "Training 결과와 Validation 결과를 비교하는 그래프 그리는 부분은 귀찮으니까 저번에 (02-Binary_Classificatioon) 만들었던 걸 그대로 긁어 오겠음"
      ]
    },
    {
      "cell_type": "code",
      "metadata": {
        "id": "7V1lHJOIwt5z"
      },
      "source": [
        "import matplotlib.pyplot as plt\n",
        "\n",
        "def make_eval_plot(history):\n",
        "  history_dict = history.history\n",
        "  acc = history_dict['accuracy']\n",
        "  val_acc = history_dict['val_accuracy']\n",
        "  loss = history_dict['loss']\n",
        "  val_loss = history_dict['val_loss']\n",
        "\n",
        "  plt.subplot(1,2,1)\n",
        "  epochs = range(1, len(loss) + 1)\n",
        "  plt.plot(epochs, loss, 'bo', label = 'Training Loss')\n",
        "  plt.plot(epochs, val_loss, 'b', label = 'Validation Loss')\n",
        "  plt.title('Loss')\n",
        "  plt.xlabel('Epochs')\n",
        "  plt.ylabel('Loss')\n",
        "  plt.legend()\n",
        " \n",
        "  plt.subplot(1,2,2)\n",
        "  epochs = range(1, len(loss) + 1)\n",
        "  plt.plot(epochs, acc, 'bo', label = 'Training Accuracy')\n",
        "  plt.plot(epochs, val_acc, 'b', label = 'Validation Accuracy')\n",
        "  plt.title('accuracy')\n",
        "  plt.xlabel('Epochs')\n",
        "  plt.ylabel('Accuracy')\n",
        "  plt.legend()\n",
        "\n",
        "  plt.show()"
      ],
      "execution_count": 18,
      "outputs": []
    },
    {
      "cell_type": "code",
      "metadata": {
        "id": "PYcM4KQ7xPhJ",
        "outputId": "29eb6378-7ec1-4f49-c873-46623e81b98b",
        "colab": {
          "base_uri": "https://localhost:8080/",
          "height": 295
        }
      },
      "source": [
        "make_eval_plot(history)"
      ],
      "execution_count": 19,
      "outputs": [
        {
          "output_type": "display_data",
          "data": {
            "image/png": "[encoded data removed]",
            "text/plain": [
              "<Figure size 432x288 with 2 Axes>"
            ]
          },
          "metadata": {
            "tags": [],
            "needs_background": "light"
          }
        }
      ]
    },
    {
      "cell_type": "code",
      "metadata": {
        "id": "9CJYiyoLxTpU",
        "outputId": "0280ca01-bf45-40d0-95a2-119d00fb3caa",
        "colab": {
          "base_uri": "https://localhost:8080/"
        }
      },
      "source": [
        "model = models.Sequential()\n",
        "\n",
        "model.add(layers.Dense(64, activation='relu', input_shape = (10000, )))\n",
        "model.add(layers.Dense(64, activation= 'relu'))\n",
        "model.add(layers.Dense(46, activation= 'softmax'))\n",
        "\n",
        "model.compile(optimizer='rmsprop',\n",
        "              loss = 'categorical_crossentropy', # 이런 문제 유형에 적합한 손실 함수!\n",
        "              metrics = ['accuracy'])\n",
        "\n",
        "model.fit(x_train, one_hot_train_labels, epochs = 9, batch_size = 512)\n",
        "results = model.evaluate(x_test, one_hot_test_labels)"
      ],
      "execution_count": 20,
      "outputs": [
        {
          "output_type": "stream",
          "text": [
            "Epoch 1/9\n",
            "18/18 [==============================] - 1s 40ms/step - loss: 2.4771 - accuracy: 0.5494\n",
            "Epoch 2/9\n",
            "18/18 [==============================] - 1s 39ms/step - loss: 1.3194 - accuracy: 0.7188\n",
            "Epoch 3/9\n",
            "18/18 [==============================] - 1s 40ms/step - loss: 0.9617 - accuracy: 0.7990\n",
            "Epoch 4/9\n",
            "18/18 [==============================] - 1s 40ms/step - loss: 0.7507 - accuracy: 0.8432\n",
            "Epoch 5/9\n",
            "18/18 [==============================] - 1s 39ms/step - loss: 0.5822 - accuracy: 0.8818\n",
            "Epoch 6/9\n",
            "18/18 [==============================] - 1s 39ms/step - loss: 0.4653 - accuracy: 0.9038\n",
            "Epoch 7/9\n",
            "18/18 [==============================] - 1s 40ms/step - loss: 0.3664 - accuracy: 0.9220\n",
            "Epoch 8/9\n",
            "18/18 [==============================] - 1s 40ms/step - loss: 0.3040 - accuracy: 0.9342\n",
            "Epoch 9/9\n",
            "18/18 [==============================] - 1s 39ms/step - loss: 0.2542 - accuracy: 0.9424\n",
            "71/71 [==============================] - 0s 2ms/step - loss: 0.9440 - accuracy: 0.7996\n"
          ],
          "name": "stdout"
        }
      ]
    },
    {
      "cell_type": "code",
      "metadata": {
        "id": "dMxobdWXyG9n",
        "outputId": "931318ef-812a-4137-ec04-89c07753839a",
        "colab": {
          "base_uri": "https://localhost:8080/"
        }
      },
      "source": [
        "results"
      ],
      "execution_count": 21,
      "outputs": [
        {
          "output_type": "execute_result",
          "data": {
            "text/plain": [
              "[0.943965494632721, 0.7996438145637512]"
            ]
          },
          "metadata": {
            "tags": []
          },
          "execution_count": 21
        }
      ]
    },
    {
      "cell_type": "markdown",
      "metadata": {
        "id": "lpUMUoALybMH"
      },
      "source": [
        "모델을 이용해서 예측 수행하기.."
      ]
    },
    {
      "cell_type": "code",
      "metadata": {
        "id": "vtqW-2qKyKyb"
      },
      "source": [
        "predictions = model.predict(x_test)"
      ],
      "execution_count": 22,
      "outputs": []
    },
    {
      "cell_type": "code",
      "metadata": {
        "id": "nOeSN6v7yYXw",
        "outputId": "885f253d-c8f0-48ef-80b8-34a104871704",
        "colab": {
          "base_uri": "https://localhost:8080/"
        }
      },
      "source": [
        "print(predictions[0].shape)\n",
        "print(np.sum(predictions[0]))"
      ],
      "execution_count": 24,
      "outputs": [
        {
          "output_type": "stream",
          "text": [
            "(46,)\n",
            "0.99999994\n"
          ],
          "name": "stdout"
        }
      ]
    },
    {
      "cell_type": "markdown",
      "metadata": {
        "id": "et6ENc9eys4J"
      },
      "source": [
        "46 개의 값을 가지면서, 이 모든 것을 다 합치면 1이 된다. 즉 확률임."
      ]
    },
    {
      "cell_type": "code",
      "metadata": {
        "id": "Xit04hclyigC",
        "outputId": "80d7f353-4fce-41b2-9963-2f82e55ae0b0",
        "colab": {
          "base_uri": "https://localhost:8080/"
        }
      },
      "source": [
        "np.argmax(predictions[0])"
      ],
      "execution_count": 25,
      "outputs": [
        {
          "output_type": "execute_result",
          "data": {
            "text/plain": [
              "3"
            ]
          },
          "metadata": {
            "tags": []
          },
          "execution_count": 25
        }
      ]
    },
    {
      "cell_type": "markdown",
      "metadata": {
        "id": "Lr7ELeY_yy7m"
      },
      "source": [
        "그래서 이렇게 가장 높은 값을 갖는 label이 예측하는 클래스이다."
      ]
    },
    {
      "cell_type": "markdown",
      "metadata": {
        "id": "m4Kd7fcOzUUW"
      },
      "source": [
        "## Sparse Categorical Crossentropy\n",
        "\n",
        "- 레이블을 인코딩할 때 One Hot Encoding 말고 그냥 단순히 정수 텐서로 변환할 땐, 이 손실함수를 써주어야 한다.\n",
        "- 기존의 Categorical Cross Entropy와 다른 점은 없다."
      ]
    },
    {
      "cell_type": "code",
      "metadata": {
        "id": "V8K0XgF8yyIW"
      },
      "source": [
        "# y_train = np.array(train_labels)\n",
        "# y_test = np.array(test_labels)\n",
        "\n",
        "# model.compile(optimizer = 'rmsprop', loss = 'sparse_categorical_crossentropy', metrics = ['acc'])\n"
      ],
      "execution_count": null,
      "outputs": []
    },
    {
      "cell_type": "markdown",
      "metadata": {
        "id": "bIC0XLPy0SUo"
      },
      "source": [
        "## 병목 현상 \n",
        "히든 유닛의 개수가 마지막 출력 차원보다 많이 작으면 정보의 병목 현상이 나타난다.\n",
        "\n",
        "원인은 정보를 46차원으로 복원하는 데 써야 하는 정보를 저차원 공간으로 압축한 것에 있다. 차원이 너무 낮아 정보를 다 담기에 부족했던 것."
      ]
    },
    {
      "cell_type": "code",
      "metadata": {
        "id": "my7qoLaL0Rce",
        "outputId": "921e41b1-7384-4ba0-adab-ab55697edbfb",
        "colab": {
          "base_uri": "https://localhost:8080/"
        }
      },
      "source": [
        "model = models.Sequential()\n",
        "\n",
        "model.add(layers.Dense(64, activation='relu', input_shape = (10000, )))\n",
        "model.add(layers.Dense(4, activation= 'relu'))\n",
        "model.add(layers.Dense(46, activation= 'softmax'))\n",
        "\n",
        "model.compile(optimizer='rmsprop',\n",
        "              loss = 'categorical_crossentropy', # 이런 문제 유형에 적합한 손실 함수!\n",
        "              metrics = ['accuracy'])\n",
        "\n",
        "model.fit(x_train, one_hot_train_labels, epochs = 9, batch_size = 128)\n",
        "results = model.evaluate(x_test, one_hot_test_labels)"
      ],
      "execution_count": 26,
      "outputs": [
        {
          "output_type": "stream",
          "text": [
            "Epoch 1/9\n",
            "71/71 [==============================] - 1s 15ms/step - loss: 2.8218 - accuracy: 0.3935\n",
            "Epoch 2/9\n",
            "71/71 [==============================] - 1s 16ms/step - loss: 1.5717 - accuracy: 0.6345\n",
            "Epoch 3/9\n",
            "71/71 [==============================] - 1s 15ms/step - loss: 1.2544 - accuracy: 0.7002\n",
            "Epoch 4/9\n",
            "71/71 [==============================] - 1s 15ms/step - loss: 1.0886 - accuracy: 0.7360\n",
            "Epoch 5/9\n",
            "71/71 [==============================] - 1s 15ms/step - loss: 0.9752 - accuracy: 0.7536\n",
            "Epoch 6/9\n",
            "71/71 [==============================] - 1s 15ms/step - loss: 0.8870 - accuracy: 0.7674\n",
            "Epoch 7/9\n",
            "71/71 [==============================] - 1s 15ms/step - loss: 0.8154 - accuracy: 0.7816\n",
            "Epoch 8/9\n",
            "71/71 [==============================] - 1s 15ms/step - loss: 0.7562 - accuracy: 0.7918\n",
            "Epoch 9/9\n",
            "71/71 [==============================] - 1s 15ms/step - loss: 0.7047 - accuracy: 0.8044\n",
            "71/71 [==============================] - 0s 2ms/step - loss: 1.3633 - accuracy: 0.7128\n"
          ],
          "name": "stdout"
        }
      ]
    },
    {
      "cell_type": "markdown",
      "metadata": {
        "id": "1FC82t1d1D61"
      },
      "source": [
        "정확도가 71%로, 기존의 79%보다 많이 낮아졌다는 것을 볼 수 있다."
      ]
    },
    {
      "cell_type": "markdown",
      "metadata": {
        "id": "MEVPenLc1NBh"
      },
      "source": [
        "## 추가 실험\n",
        "- 더 크거나 작은 층 사용해보기\n",
        "- 은닉층 개수 바꾸어보기\n",
        "\n",
        "\n",
        "-> 피곤해서 스킵.."
      ]
    },
    {
      "cell_type": "code",
      "metadata": {
        "id": "jOFc_IFW0tSh"
      },
      "source": [
        ""
      ],
      "execution_count": 26,
      "outputs": []
    },
    {
      "cell_type": "code",
      "metadata": {
        "id": "imd-QcNN1LEn"
      },
      "source": [
        ""
      ],
      "execution_count": null,
      "outputs": []
    }
  ]
}