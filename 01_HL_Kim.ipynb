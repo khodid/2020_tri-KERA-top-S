{
  "nbformat": 4,
  "nbformat_minor": 0,
  "metadata": {
    "colab": {
      "name": "01_HL-Kim.ipynb",
      "provenance": []
    },
    "kernelspec": {
      "name": "python3",
      "display_name": "Python 3"
    }
  },
  "cells": [
    {
      "cell_type": "markdown",
      "metadata": {
        "id": "jidpGSyLjvjj"
      },
      "source": [
        "# SAI- I 트리케라톱스 팀\n",
        "**Chatper 2 실습 코드**\n",
        "- 작성일: 2020년 11월 1일\n",
        "- 작성자: 김해리(전자정보통신공학과 3학년)\n",
        "\n",
        "## 내용\n",
        "\n",
        "MNIST dataset을 이용한 모델 학습을 Keras로 구현해보기 (맛보기)\n"
      ]
    },
    {
      "cell_type": "markdown",
      "metadata": {
        "id": "CNuAO54Otcpp"
      },
      "source": [
        "## 신경망과의 첫만남\n",
        "\n",
        "keras로 신경망을 만들고 훈련시키고 평가하기까지의 과정."
      ]
    },
    {
      "cell_type": "markdown",
      "metadata": {
        "id": "tS0oelJIoH47"
      },
      "source": [
        "### 데이터 받아오기, 관찰하기"
      ]
    },
    {
      "cell_type": "code",
      "metadata": {
        "id": "jnLuuBfOjSwb",
        "outputId": "158dc9df-35e1-4178-ad28-c988a32660b0",
        "colab": {
          "base_uri": "https://localhost:8080/"
        }
      },
      "source": [
        "# 케라스에서 MNIST dataset 적재하기\n",
        "\n",
        "from keras.datasets import mnist\n",
        "(train_images, train_labels), (test_images, test_labels) = mnist.load_data()"
      ],
      "execution_count": 1,
      "outputs": [
        {
          "output_type": "stream",
          "text": [
            "Downloading data from https://storage.googleapis.com/tensorflow/tf-keras-datasets/mnist.npz\n",
            "11493376/11490434 [==============================] - 0s 0us/step\n"
          ],
          "name": "stdout"
        }
      ]
    },
    {
      "cell_type": "code",
      "metadata": {
        "id": "fXIy-O89nqaP",
        "outputId": "4e1e05b0-3fe1-46f4-e27f-00904ccd71cd",
        "colab": {
          "base_uri": "https://localhost:8080/"
        }
      },
      "source": [
        "# 훈련 데이터 관찰하기\n",
        "train_images.shape"
      ],
      "execution_count": 3,
      "outputs": [
        {
          "output_type": "execute_result",
          "data": {
            "text/plain": [
              "(60000, 28, 28)"
            ]
          },
          "metadata": {
            "tags": []
          },
          "execution_count": 3
        }
      ]
    },
    {
      "cell_type": "code",
      "metadata": {
        "id": "YtUpaEGMnwUJ",
        "outputId": "40f4cba7-3c74-4f0d-b378-3db792a02fad",
        "colab": {
          "base_uri": "https://localhost:8080/"
        }
      },
      "source": [
        "len(train_labels)"
      ],
      "execution_count": 5,
      "outputs": [
        {
          "output_type": "execute_result",
          "data": {
            "text/plain": [
              "60000"
            ]
          },
          "metadata": {
            "tags": []
          },
          "execution_count": 5
        }
      ]
    },
    {
      "cell_type": "code",
      "metadata": {
        "id": "RPhoVaQ0n0Z7",
        "outputId": "c439ffdd-8f29-45e7-b824-cb62eea4b6c1",
        "colab": {
          "base_uri": "https://localhost:8080/"
        }
      },
      "source": [
        "train_labels"
      ],
      "execution_count": 7,
      "outputs": [
        {
          "output_type": "execute_result",
          "data": {
            "text/plain": [
              "array([5, 0, 4, ..., 5, 6, 8], dtype=uint8)"
            ]
          },
          "metadata": {
            "tags": []
          },
          "execution_count": 7
        }
      ]
    },
    {
      "cell_type": "code",
      "metadata": {
        "id": "C7ICkVpJn6Zq",
        "outputId": "b62bfef8-859b-4968-826d-794e0bf55d68",
        "colab": {
          "base_uri": "https://localhost:8080/"
        }
      },
      "source": [
        "test_images.shape"
      ],
      "execution_count": 8,
      "outputs": [
        {
          "output_type": "execute_result",
          "data": {
            "text/plain": [
              "(10000, 28, 28)"
            ]
          },
          "metadata": {
            "tags": []
          },
          "execution_count": 8
        }
      ]
    },
    {
      "cell_type": "code",
      "metadata": {
        "id": "PleWfnVwn9Rk",
        "outputId": "ba25707c-a9fd-491f-c879-b3d0325939ac",
        "colab": {
          "base_uri": "https://localhost:8080/"
        }
      },
      "source": [
        "print(len(test_labels))\n",
        "test_labels"
      ],
      "execution_count": 10,
      "outputs": [
        {
          "output_type": "stream",
          "text": [
            "10000\n"
          ],
          "name": "stdout"
        },
        {
          "output_type": "execute_result",
          "data": {
            "text/plain": [
              "array([7, 2, 1, ..., 4, 5, 6], dtype=uint8)"
            ]
          },
          "metadata": {
            "tags": []
          },
          "execution_count": 10
        }
      ]
    },
    {
      "cell_type": "markdown",
      "metadata": {
        "id": "7XG6OqOJoLwn"
      },
      "source": [
        "### 훈련할 모델 구축 & 평가하기\n"
      ]
    },
    {
      "cell_type": "code",
      "metadata": {
        "id": "6wFcou_koQG4"
      },
      "source": [
        "from keras import models\n",
        "from keras import layers\n",
        "\n",
        "network = models.Sequential()\n",
        "network.add(layers.Dense(512, activation = 'relu', input_shape = (28*28, )))\n",
        "network.add(layers.Dense(10, activation='softmax'))"
      ],
      "execution_count": 11,
      "outputs": []
    },
    {
      "cell_type": "code",
      "metadata": {
        "id": "SKFrzkLDo73x"
      },
      "source": [
        "network.compile(optimizer='rmsprop', loss = 'categorical_crossentropy', metrics= ['accuracy'])"
      ],
      "execution_count": 12,
      "outputs": []
    },
    {
      "cell_type": "code",
      "metadata": {
        "id": "xKH3nuQCpNgc"
      },
      "source": [
        "train_images = (train_images.reshape((60000, 28*28)).astype('float32'))/255 # 2차원 배열이었던 이미지를 일 자로 쭉 펴주고, 0-255 정수형이었던 밝기값 표현을 0-1 사이의 실수형으로 변환함"
      ],
      "execution_count": 14,
      "outputs": []
    },
    {
      "cell_type": "code",
      "metadata": {
        "id": "ptPIAFISpmWf"
      },
      "source": [
        "test_images = (test_images.reshape((10000, 28*28)).astype('float32'))/255 # 2차원 배열이었던 이미지를 일 자로 쭉 펴주고, 0-255 정수형이었던 밝기값 표현을 0-1 사이의 실수형으로 변환함"
      ],
      "execution_count": 16,
      "outputs": []
    },
    {
      "cell_type": "markdown",
      "metadata": {
        "id": "nhFq8483qH2M"
      },
      "source": [
        "keras.utils.to_categorical 에 대한 설명 \n",
        "[(공식문서)](\n",
        "https://www.tensorflow.org/api_docs/python/tf/keras/utils/to_categorical?hl=ko)\n",
        "\n",
        "대충 내용을 보니, [1, 3, 2, 0] 처럼 class number로 되어 있던 라벨들을\n",
        "\n",
        "아래와 같은 one hot encoding 처리를 할 때 쓰는 method인 것 같다.\n",
        "```python\n",
        "[[0, 1, 0, 0],\n",
        " [0, 0, 0, 1],\n",
        " [0, 0, 1, 0],\n",
        " [1, 0, 0, 0]]\n",
        "```\n"
      ]
    },
    {
      "cell_type": "code",
      "metadata": {
        "id": "ayXbF9nrpudH"
      },
      "source": [
        "from keras.utils import to_categorical\n",
        "\n",
        "train_labels = to_categorical(train_labels)\n",
        "test_labels = to_categorical(test_labels)"
      ],
      "execution_count": 17,
      "outputs": []
    },
    {
      "cell_type": "code",
      "metadata": {
        "id": "SxPocAzRslij",
        "outputId": "5360aa2f-b7ee-4212-e8f0-4492078eab68",
        "colab": {
          "base_uri": "https://localhost:8080/"
        }
      },
      "source": [
        "# to_categorical 실험\n",
        "a = [1, 3, 2, 0]\n",
        "to_categorical(a)"
      ],
      "execution_count": 18,
      "outputs": [
        {
          "output_type": "execute_result",
          "data": {
            "text/plain": [
              "array([[0., 1., 0., 0.],\n",
              "       [0., 0., 0., 1.],\n",
              "       [0., 0., 1., 0.],\n",
              "       [1., 0., 0., 0.]], dtype=float32)"
            ]
          },
          "metadata": {
            "tags": []
          },
          "execution_count": 18
        }
      ]
    },
    {
      "cell_type": "code",
      "metadata": {
        "id": "5zikgj4WsqNU",
        "outputId": "3e030619-8044-4d10-cf74-3af7b2663de2",
        "colab": {
          "base_uri": "https://localhost:8080/"
        }
      },
      "source": [
        "# 신경망 훈련 시키기\n",
        "network.fit(train_images, train_labels, epochs=5, batch_size=128)"
      ],
      "execution_count": 20,
      "outputs": [
        {
          "output_type": "stream",
          "text": [
            "Epoch 1/5\n",
            "469/469 [==============================] - 4s 8ms/step - loss: 0.0286 - accuracy: 0.9915\n",
            "Epoch 2/5\n",
            "469/469 [==============================] - 4s 8ms/step - loss: 0.0216 - accuracy: 0.9937\n",
            "Epoch 3/5\n",
            "469/469 [==============================] - 4s 8ms/step - loss: 0.0170 - accuracy: 0.9951\n",
            "Epoch 4/5\n",
            "469/469 [==============================] - 4s 8ms/step - loss: 0.0132 - accuracy: 0.9964\n",
            "Epoch 5/5\n",
            "469/469 [==============================] - 4s 8ms/step - loss: 0.0101 - accuracy: 0.9970\n"
          ],
          "name": "stdout"
        },
        {
          "output_type": "execute_result",
          "data": {
            "text/plain": [
              "<tensorflow.python.keras.callbacks.History at 0x7fada6de4fd0>"
            ]
          },
          "metadata": {
            "tags": []
          },
          "execution_count": 20
        }
      ]
    },
    {
      "cell_type": "markdown",
      "metadata": {
        "id": "L8-iIYwHs8x5"
      },
      "source": [
        "훈련이 진행 되며 loss가 점차 줄고, accuracy가 늘어나는 것을 볼 수 있다."
      ]
    },
    {
      "cell_type": "code",
      "metadata": {
        "id": "eqwZhRx0s0nb",
        "outputId": "841330eb-3c00-4104-bfa8-08f49d3a5f14",
        "colab": {
          "base_uri": "https://localhost:8080/"
        }
      },
      "source": [
        "# test set 적용\n",
        "test_loss, test_acc = network.evaluate(test_images, test_labels)"
      ],
      "execution_count": 21,
      "outputs": [
        {
          "output_type": "stream",
          "text": [
            "313/313 [==============================] - 1s 2ms/step - loss: 0.0694 - accuracy: 0.9818\n"
          ],
          "name": "stdout"
        }
      ]
    },
    {
      "cell_type": "code",
      "metadata": {
        "id": "noRgDkjbtSeq",
        "outputId": "b4eece42-9b85-44a5-dc1c-95a0b80dffe9",
        "colab": {
          "base_uri": "https://localhost:8080/"
        }
      },
      "source": [
        "print('test accuracy: ', test_acc)"
      ],
      "execution_count": 22,
      "outputs": [
        {
          "output_type": "stream",
          "text": [
            "test accuracy:  0.9818000197410583\n"
          ],
          "name": "stdout"
        }
      ]
    },
    {
      "cell_type": "markdown",
      "metadata": {
        "id": "SjcWSxBytm2S"
      },
      "source": [
        "## 신경망을 위한 데이터 표현\n",
        "numpy 배열 속 데이터 다루기\n"
      ]
    },
    {
      "cell_type": "code",
      "metadata": {
        "id": "SC3VsLpPuW4g"
      },
      "source": [
        "import numpy as np"
      ],
      "execution_count": 23,
      "outputs": []
    },
    {
      "cell_type": "markdown",
      "metadata": {
        "id": "iIE4ASb1uKrI"
      },
      "source": [
        "### 텐서 알아보기"
      ]
    },
    {
      "cell_type": "code",
      "metadata": {
        "id": "U0Lq1vG9uSWs",
        "outputId": "80feb00b-8f49-46af-999b-3d5ada577f81",
        "colab": {
          "base_uri": "https://localhost:8080/"
        }
      },
      "source": [
        "# 0D Tensor (scalar)\n",
        "x = np.array(65)\n",
        "print(x)\n",
        "print(x.ndim)"
      ],
      "execution_count": 27,
      "outputs": [
        {
          "output_type": "stream",
          "text": [
            "65\n",
            "0\n"
          ],
          "name": "stdout"
        }
      ]
    },
    {
      "cell_type": "code",
      "metadata": {
        "id": "c92yQkFNucPT",
        "outputId": "e3016b4d-011c-45d3-9980-55791fe64464",
        "colab": {
          "base_uri": "https://localhost:8080/"
        }
      },
      "source": [
        "# 1D Tensor (vector)\n",
        "x = np.array([3, 2, 45, 5])\n",
        "print(x)\n",
        "print(x.ndim)"
      ],
      "execution_count": 28,
      "outputs": [
        {
          "output_type": "stream",
          "text": [
            "[ 3  2 45  5]\n",
            "1\n"
          ],
          "name": "stdout"
        }
      ]
    },
    {
      "cell_type": "code",
      "metadata": {
        "id": "XciJkC9pu1Gu",
        "outputId": "b052ee04-842d-4b80-f1d6-5d8073d549be",
        "colab": {
          "base_uri": "https://localhost:8080/"
        }
      },
      "source": [
        "# 2D Tensor (matrix)\n",
        "x = np.array([[1,2,3] , [4, 3, 2]])\n",
        "print(x)\n",
        "print(x.ndim)"
      ],
      "execution_count": 29,
      "outputs": [
        {
          "output_type": "stream",
          "text": [
            "[[1 2 3]\n",
            " [4 3 2]]\n",
            "2\n"
          ],
          "name": "stdout"
        }
      ]
    },
    {
      "cell_type": "code",
      "metadata": {
        "id": "lrJM8-ovvQJS",
        "outputId": "89515ffe-2218-4473-d07d-eb34b61ac3ea",
        "colab": {
          "base_uri": "https://localhost:8080/"
        }
      },
      "source": [
        "# 3D Tensor and so on\n",
        "x = np.array([\n",
        "              [[1, 2, 3], \n",
        "               [2, 4, 5]\n",
        "               ],\n",
        "              [\n",
        "               [3, 4, 5], \n",
        "              [1, 2, 3]\n",
        "               ],\n",
        "              [\n",
        "               [2, 3, 4],\n",
        "               [9, 67, 3]\n",
        "               ]\n",
        "              ])\n",
        "print(x)\n",
        "print(x.ndim)"
      ],
      "execution_count": 31,
      "outputs": [
        {
          "output_type": "stream",
          "text": [
            "[[[ 1  2  3]\n",
            "  [ 2  4  5]]\n",
            "\n",
            " [[ 3  4  5]\n",
            "  [ 1  2  3]]\n",
            "\n",
            " [[ 2  3  4]\n",
            "  [ 9 67  3]]]\n",
            "3\n"
          ],
          "name": "stdout"
        }
      ]
    },
    {
      "cell_type": "code",
      "metadata": {
        "id": "Vqkx2wkVvB35",
        "outputId": "567fc702-834e-4d64-a3ba-70b432843eca",
        "colab": {
          "base_uri": "https://localhost:8080/"
        }
      },
      "source": [
        "# Tensor의 3요소\n",
        "\n",
        "print(x.ndim) # 축의 개수를 뜻함. rank라고도 부름\n",
        "print(x.shape) # 각 축에 따라 얼마나 많은 차원이 있는지를 나타내는 튜플.\n",
        "print(x.dtype) # 텐서에 포함된 데이터의 자료형"
      ],
      "execution_count": 32,
      "outputs": [
        {
          "output_type": "stream",
          "text": [
            "3\n",
            "(3, 2, 3)\n",
            "int64\n"
          ],
          "name": "stdout"
        }
      ]
    },
    {
      "cell_type": "code",
      "metadata": {
        "id": "-b_0UlFcwGFl",
        "outputId": "87d2de43-c51e-48bf-83ba-a0bddb98b07f",
        "colab": {
          "base_uri": "https://localhost:8080/"
        }
      },
      "source": [
        "print(train_images.ndim)\n",
        "print(train_images.shape)\n",
        "print(train_images.dtype)"
      ],
      "execution_count": 33,
      "outputs": [
        {
          "output_type": "stream",
          "text": [
            "2\n",
            "(60000, 784)\n",
            "float32\n"
          ],
          "name": "stdout"
        }
      ]
    },
    {
      "cell_type": "code",
      "metadata": {
        "id": "y79pZI8LwUFc",
        "outputId": "6a220505-6b6b-40c7-a9cf-362e08b5bace",
        "colab": {
          "base_uri": "https://localhost:8080/",
          "height": 283
        }
      },
      "source": [
        "# matplotlib을 이용해서 데이터 하나 출력하기\n",
        "digit = train_images[7].reshape(28, 28)\n",
        "import matplotlib.pyplot as plt\n",
        "plt.imshow(digit, cmap = plt.cm.binary) # \n",
        "plt.show"
      ],
      "execution_count": 36,
      "outputs": [
        {
          "output_type": "execute_result",
          "data": {
            "text/plain": [
              "<function matplotlib.pyplot.show>"
            ]
          },
          "metadata": {
            "tags": []
          },
          "execution_count": 36
        },
        {
          "output_type": "display_data",
          "data": {
            "image/png": "[encoded data removed]",
            "text/plain": [
              "<Figure size 432x288 with 1 Axes>"
            ]
          },
          "metadata": {
            "tags": [],
            "needs_background": "light"
          }
        }
      ]
    },
    {
      "cell_type": "markdown",
      "metadata": {
        "id": "6ZxE8wzXw4KW"
      },
      "source": [
        "위에서 imshow의 인자로 전달된 cmap(컬러맵) 에 관한 건 https://matplotlib.org/3.1.0/tutorials/colors/colormaps.html 여기에."
      ]
    },
    {
      "cell_type": "markdown",
      "metadata": {
        "id": "VpApHLzYw_vj"
      },
      "source": [
        "### 넘파이로 텐서 조작하기\n"
      ]
    },
    {
      "cell_type": "code",
      "metadata": {
        "id": "-TC5ZOjWwpEG",
        "outputId": "16e8be63-4c65-4b2b-f7dd-b7617954c6a9",
        "colab": {
          "base_uri": "https://localhost:8080/",
          "height": 283
        }
      },
      "source": [
        "# 슬라이싱을 통해 개별 이미지 crop\n",
        "plt.imshow(digit[7:, :14], cmap=plt.cm.binary) "
      ],
      "execution_count": 39,
      "outputs": [
        {
          "output_type": "execute_result",
          "data": {
            "text/plain": [
              "<matplotlib.image.AxesImage at 0x7fada5d7fe80>"
            ]
          },
          "metadata": {
            "tags": []
          },
          "execution_count": 39
        },
        {
          "output_type": "display_data",
          "data": {
            "image/png": "[encoded data removed]",
            "text/plain": [
              "<Figure size 432x288 with 1 Axes>"
            ]
          },
          "metadata": {
            "tags": [],
            "needs_background": "light"
          }
        }
      ]
    },
    {
      "cell_type": "code",
      "metadata": {
        "id": "m7YGA0t1xbI3",
        "outputId": "2612a98c-5049-45cf-9468-a14e2185d26a",
        "colab": {
          "base_uri": "https://localhost:8080/"
        }
      },
      "source": [
        "# 슬라이싱을 통해 batch 만들기\n",
        "train_batch = train_images[:1250]\n",
        "print(train_images.shape)\n",
        "print(train_batch.shape)"
      ],
      "execution_count": 40,
      "outputs": [
        {
          "output_type": "stream",
          "text": [
            "(60000, 784)\n",
            "(1250, 784)\n"
          ],
          "name": "stdout"
        }
      ]
    },
    {
      "cell_type": "code",
      "metadata": {
        "id": "ZT7ZxQCRyReW"
      },
      "source": [
        "output = relu(dot(W, imnput))"
      ],
      "execution_count": null,
      "outputs": []
    }
  ]
}