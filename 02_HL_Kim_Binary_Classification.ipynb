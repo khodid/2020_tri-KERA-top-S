{
  "nbformat": 4,
  "nbformat_minor": 0,
  "metadata": {
    "colab": {
      "name": "02_HL-Kim_Binary-Classification.ipynb",
      "provenance": [],
      "collapsed_sections": []
    },
    "kernelspec": {
      "name": "python3",
      "display_name": "Python 3"
    }
  },
  "cells": [
    {
      "cell_type": "markdown",
      "metadata": {
        "id": "tgxkHO-Kiga9"
      },
      "source": [
        "# SAI - I 트리케라톱스 팀 과제\n",
        "**Chapter 3 실습코드**\n",
        "\n",
        "\n",
        "Chapter 3에서는 세 가지 문제에 대해 어떻게 신경망을 짜는 지 알려 준다.\n",
        "1. 이진 분류\n",
        "2. 다중 분류\n",
        "3. 회귀\n"
      ]
    },
    {
      "cell_type": "markdown",
      "metadata": {
        "id": "PZAUprF_k1wr"
      },
      "source": [
        "## 케라스의 작업 흐름\n",
        "\n",
        "1. 입력 텐서와 타깃 텐서로 이루어진 훈련 데이터를 정의합니다.\n",
        "2. 입력과 타깃을 매핑하는 층으로 이루어진 네트워크(또는 모델)을 정의합니다.\n",
        "3. 손실 함수, optimizer, 모니터링하기 위한 측정 지표를 선택하여 학습과정을 설명합니다.\n",
        "4. 훈련 데이터에 대해 모델의 fit() 메서드를 반복적으로 호출합니다.\n",
        "\n",
        "구현 방법은\n",
        "- Sequential 클래스를 쓴다\n",
        "- 함수형 API를 쓴다"
      ]
    },
    {
      "cell_type": "code",
      "metadata": {
        "id": "SlWhQyS9iaNN"
      },
      "source": [
        "# Sequential 클래스\n",
        "from keras import models\n",
        "from keras import layers"
      ],
      "execution_count": 2,
      "outputs": []
    },
    {
      "cell_type": "code",
      "metadata": {
        "id": "VbTGJ3Acm_G2"
      },
      "source": [
        "model = models.Sequential()"
      ],
      "execution_count": 3,
      "outputs": []
    },
    {
      "cell_type": "code",
      "metadata": {
        "id": "SWyJydwAnFsi"
      },
      "source": [
        "model.add(layers.Dense(32, activation='relu', input_shape =(784,)))\n",
        "model.add(layers.Dense(10, activation= 'softmax'))"
      ],
      "execution_count": 4,
      "outputs": []
    },
    {
      "cell_type": "code",
      "metadata": {
        "id": "3rWlFoChnUFh"
      },
      "source": [
        "# 함수형 API\n",
        "input_tensor = layers.Input(shape = (784, ))\n",
        "x = layers.Dense(32, activation = 'relu')(input_tensor)\n",
        "output_tensor = layers.Dense(10, activation = 'softmax')(x)"
      ],
      "execution_count": 5,
      "outputs": []
    },
    {
      "cell_type": "code",
      "metadata": {
        "id": "NLRM7WztnzBl"
      },
      "source": [
        "model = models.Model(inputs = input_tensor, outputs = output_tensor)"
      ],
      "execution_count": 7,
      "outputs": []
    },
    {
      "cell_type": "markdown",
      "metadata": {
        "id": "MpHtv38qoPzv"
      },
      "source": [
        "신경망의 구성 자체는 이렇게 두 가지 방식으로 만들 수 있지만, 학습 과정은 동일한 방법을 사용할 수 있음."
      ]
    },
    {
      "cell_type": "code",
      "metadata": {
        "id": "NbWYqou_oEeP"
      },
      "source": [
        "from keras import optimizers"
      ],
      "execution_count": 8,
      "outputs": []
    },
    {
      "cell_type": "code",
      "metadata": {
        "id": "Wcb4lkBDovXp"
      },
      "source": [
        "model.compile(optimizer=optimizers.RMSprop(lr=0.01),\n",
        "              loss = 'mse',\n",
        "              metrics = ['accuracy'])"
      ],
      "execution_count": 9,
      "outputs": []
    },
    {
      "cell_type": "code",
      "metadata": {
        "id": "eEU49vBio71-"
      },
      "source": [
        "# model.fit(input_tensor, target_tensor, batch_size=128, epochs=10)"
      ],
      "execution_count": 12,
      "outputs": []
    },
    {
      "cell_type": "markdown",
      "metadata": {
        "id": "YNgAX6R1pmue"
      },
      "source": [
        "## 이진 분류 예제\n",
        "\n",
        "- 주제:영화 리뷰 분류\n",
        "- IMDB 데이터셋 활용"
      ]
    },
    {
      "cell_type": "code",
      "metadata": {
        "id": "ygNu8qUypCvX"
      },
      "source": [
        "from keras.datasets import imdb"
      ],
      "execution_count": 13,
      "outputs": []
    },
    {
      "cell_type": "code",
      "metadata": {
        "id": "N4Va4PKkqFI2",
        "outputId": "87add2aa-d833-45bb-f39b-0435e554e09b",
        "colab": {
          "base_uri": "https://localhost:8080/"
        }
      },
      "source": [
        "(train_data, train_labels), (test_data, test_labels) = imdb.load_data(num_words=10000) # 가장 빈번한 10000개의 단어만 사용해서 훈련하겠다는 의미"
      ],
      "execution_count": 15,
      "outputs": [
        {
          "output_type": "stream",
          "text": [
            "Downloading data from https://storage.googleapis.com/tensorflow/tf-keras-datasets/imdb.npz\n",
            "17465344/17464789 [==============================] - 0s 0us/step\n"
          ],
          "name": "stdout"
        }
      ]
    },
    {
      "cell_type": "code",
      "metadata": {
        "id": "GPz30bFSqRIN",
        "outputId": "13f7e248-c9d7-495e-9ae8-5321b22b6ad8",
        "colab": {
          "base_uri": "https://localhost:8080/"
        }
      },
      "source": [
        "# 데이터 뜯어보기\n",
        "print(train_data[0][:10]) # 인코딩된 단어 시퀀스의 인덱스\n",
        "print(train_labels[0])"
      ],
      "execution_count": 18,
      "outputs": [
        {
          "output_type": "stream",
          "text": [
            "[1, 14, 22, 16, 43, 530, 973, 1622, 1385, 65]\n",
            "1\n"
          ],
          "name": "stdout"
        }
      ]
    },
    {
      "cell_type": "code",
      "metadata": {
        "id": "VDt5QliIqaM0",
        "outputId": "1ecb842a-a83e-4403-a55f-717c629739ed",
        "colab": {
          "base_uri": "https://localhost:8080/"
        }
      },
      "source": [
        "word_index = imdb.get_word_index()\n",
        "reverse_word_index = dict(\n",
        "    [(value, key) for (key, value) in word_index.items()]\n",
        ")\n",
        "decoded_review = ''.join([reverse_word_index.get(i-3, '?') for i in train_data[0]])"
      ],
      "execution_count": 19,
      "outputs": [
        {
          "output_type": "stream",
          "text": [
            "Downloading data from https://storage.googleapis.com/tensorflow/tf-keras-datasets/imdb_word_index.json\n",
            "1646592/1641221 [==============================] - 0s 0us/step\n"
          ],
          "name": "stdout"
        }
      ]
    },
    {
      "cell_type": "code",
      "metadata": {
        "id": "aqAiGsmGrccP",
        "outputId": "664d1690-0e2a-4ad0-bcdd-1a65fcf8a3fd",
        "colab": {
          "base_uri": "https://localhost:8080/",
          "height": 106
        }
      },
      "source": [
        "decoded_review # 매핑되었던 단어들을 다시 꺼내서 원래 문장 복원해보기"
      ],
      "execution_count": 20,
      "outputs": [
        {
          "output_type": "execute_result",
          "data": {
            "application/vnd.google.colaboratory.intrinsic+json": {
              "type": "string"
            },
            "text/plain": [
              "\"?thisfilmwasjustbrilliantcastinglocationscenerystorydirectioneveryone'sreallysuitedtheparttheyplayedandyoucouldjustimaginebeingthererobert?isanamazingactorandnowthesamebeingdirector?fathercamefromthesamescottishislandasmyselfsoilovedthefacttherewasarealconnectionwiththisfilmthewittyremarksthroughoutthefilmweregreatitwasjustbrilliantsomuchthatiboughtthefilmassoonasitwasreleasedfor?andwouldrecommendittoeveryonetowatchandtheflyfishingwasamazingreallycriedattheenditwassosadandyouknowwhattheysayifyoucryatafilmitmusthavebeengoodandthisdefinitelywasalso?tothetwolittleboy'sthatplayedthe?ofnormanandpaultheywerejustbrilliantchildrenareoftenleftoutofthe?listithinkbecausethestarsthatplaythemallgrownuparesuchabigprofileforthewholefilmbutthesechildrenareamazingandshouldbepraisedforwhattheyhavedonedon'tyouthinkthewholestorywassolovelybecauseitwastrueandwassomeone'slifeafterallthatwassharedwithusall\""
            ]
          },
          "metadata": {
            "tags": []
          },
          "execution_count": 20
        }
      ]
    },
    {
      "cell_type": "markdown",
      "metadata": {
        "id": "i4ArcBM2Ys8M"
      },
      "source": [
        "데이터를 신경망에 넣기 좋은 상태로 바꾸기(list -> Tensor)\n",
        "\n",
        "방법은 두 가지가 있다. \n",
        "\n",
        "1. 같은 길이가 되도록 패딩을 추가하고 텐서로 변환하기\n",
        "2. 원핫인코딩"
      ]
    },
    {
      "cell_type": "code",
      "metadata": {
        "id": "Am1QSCigYsK1"
      },
      "source": [
        "import numpy as np\n",
        "\n",
        "def vectorize_sequences(sequences, dimension = 10000):\n",
        "  results = np.zeros((len(sequences), dimension))\n",
        "  for i, sequence in enumerate(sequences):\n",
        "    results[i, sequence] = 1.\n",
        "  return results"
      ],
      "execution_count": 30,
      "outputs": []
    },
    {
      "cell_type": "code",
      "metadata": {
        "id": "DNkJirQTZujj"
      },
      "source": [
        "x_train = vectorize_sequences(train_data)\n",
        "x_test = vectorize_sequences(test_data)"
      ],
      "execution_count": 31,
      "outputs": []
    },
    {
      "cell_type": "code",
      "metadata": {
        "id": "NLPwc5FWabZn"
      },
      "source": [
        "y_train = np.asarray(train_labels).astype('float32')\n",
        "y_test = np.asarray(test_labels).astype('float32')"
      ],
      "execution_count": 33,
      "outputs": []
    },
    {
      "cell_type": "markdown",
      "metadata": {
        "id": "GjfRjrWpsRqy"
      },
      "source": [
        "### 모델 만들기"
      ]
    },
    {
      "cell_type": "markdown",
      "metadata": {
        "id": "FdF8OOI1GyJS"
      },
      "source": [
        "Dense 층의 인자로 넣어 주는 것은 hidden unit의 크기인데, Dense 층을 거치면 input data의 크기만했던 data가 hidden unit 만큼의 차원의 벡터로 매핑된다.\n",
        " \n",
        " \n",
        " 만약 hidden unit의 크기를 키운다면 좀더 복잡한 표현을 학습할 수 있지만, 연산량이 많아지며 overfitting의 위험이 있다. 따라서 Dense 층을 쌓을 땐 Dense 층을 얼마나 쌓을 것인지, 그리고 hidden unit을 어떻게 설정할 것인지를 잘 결정해야 한다."
      ]
    },
    {
      "cell_type": "code",
      "metadata": {
        "id": "hSOtG4-FrfcS"
      },
      "source": [
        "bin_model = models.Sequential()"
      ],
      "execution_count": 21,
      "outputs": []
    },
    {
      "cell_type": "code",
      "metadata": {
        "id": "l9ZRBHsoI-Yr"
      },
      "source": [
        "bin_model.add(layers.Dense(16, activation = 'relu', input_shape = (10000, )))\n",
        "bin_model.add(layers.Dense(16, activation = 'relu'))\n",
        "bin_model.add(layers.Dense(1, activation ='sigmoid'))"
      ],
      "execution_count": 23,
      "outputs": []
    },
    {
      "cell_type": "code",
      "metadata": {
        "id": "iMoAHl9UJbai"
      },
      "source": [
        "bin_model.compile(optimizer = 'rmsprop',\n",
        "                  loss = 'binary_crossentropy',\n",
        "                  metrics=['accuracy'])\n",
        "\n",
        "# 만약 여기에 커스텀 또는 각종 인자를 바꾼 손실 함수나 optimizer를 넣고 싶다면, 인자로 문자열이 아닌 object를 넣어주면 된다."
      ],
      "execution_count": 38,
      "outputs": []
    },
    {
      "cell_type": "code",
      "metadata": {
        "id": "YveLtn5_Z_jM"
      },
      "source": [
        "# 모델의 정확도를 측정하기 위해 샘플을 떼어 놓음\n",
        "x_val = x_train[:10000]\n",
        "partial_x_train = x_train[10000:]\n",
        "y_val = y_train[:10000]\n",
        "partial_y_train = y_train[10000:]"
      ],
      "execution_count": 39,
      "outputs": []
    },
    {
      "cell_type": "code",
      "metadata": {
        "id": "zMxLiG1GX4HB",
        "outputId": "a8ccf53e-ac28-49bc-f670-1a5e730aa063",
        "colab": {
          "base_uri": "https://localhost:8080/"
        }
      },
      "source": [
        "history = bin_model.fit(partial_x_train, partial_y_train, epochs = 20, batch_size= 512, validation_data = (x_val, y_val))"
      ],
      "execution_count": 40,
      "outputs": [
        {
          "output_type": "stream",
          "text": [
            "Epoch 1/20\n",
            "30/30 [==============================] - 1s 50ms/step - loss: 0.5430 - accuracy: 0.7845 - val_loss: 0.4207 - val_accuracy: 0.8674\n",
            "Epoch 2/20\n",
            "30/30 [==============================] - 1s 35ms/step - loss: 0.3331 - accuracy: 0.8987 - val_loss: 0.3203 - val_accuracy: 0.8835\n",
            "Epoch 3/20\n",
            "30/30 [==============================] - 1s 34ms/step - loss: 0.2386 - accuracy: 0.9251 - val_loss: 0.2821 - val_accuracy: 0.8919\n",
            "Epoch 4/20\n",
            "30/30 [==============================] - 1s 34ms/step - loss: 0.1892 - accuracy: 0.9401 - val_loss: 0.2995 - val_accuracy: 0.8805\n",
            "Epoch 5/20\n",
            "30/30 [==============================] - 1s 34ms/step - loss: 0.1506 - accuracy: 0.9539 - val_loss: 0.2780 - val_accuracy: 0.8893\n",
            "Epoch 6/20\n",
            "30/30 [==============================] - 1s 34ms/step - loss: 0.1267 - accuracy: 0.9603 - val_loss: 0.2874 - val_accuracy: 0.8876\n",
            "Epoch 7/20\n",
            "30/30 [==============================] - 1s 43ms/step - loss: 0.1033 - accuracy: 0.9699 - val_loss: 0.3205 - val_accuracy: 0.8785\n",
            "Epoch 8/20\n",
            "30/30 [==============================] - 1s 35ms/step - loss: 0.0839 - accuracy: 0.9774 - val_loss: 0.3267 - val_accuracy: 0.8814\n",
            "Epoch 9/20\n",
            "30/30 [==============================] - 1s 34ms/step - loss: 0.0693 - accuracy: 0.9825 - val_loss: 0.3597 - val_accuracy: 0.8782\n",
            "Epoch 10/20\n",
            "30/30 [==============================] - 1s 34ms/step - loss: 0.0560 - accuracy: 0.9860 - val_loss: 0.3725 - val_accuracy: 0.8762\n",
            "Epoch 11/20\n",
            "30/30 [==============================] - 1s 34ms/step - loss: 0.0450 - accuracy: 0.9898 - val_loss: 0.3992 - val_accuracy: 0.8757\n",
            "Epoch 12/20\n",
            "30/30 [==============================] - 1s 35ms/step - loss: 0.0354 - accuracy: 0.9925 - val_loss: 0.4242 - val_accuracy: 0.8745\n",
            "Epoch 13/20\n",
            "30/30 [==============================] - 1s 34ms/step - loss: 0.0275 - accuracy: 0.9941 - val_loss: 0.5032 - val_accuracy: 0.8610\n",
            "Epoch 14/20\n",
            "30/30 [==============================] - 1s 34ms/step - loss: 0.0239 - accuracy: 0.9951 - val_loss: 0.4850 - val_accuracy: 0.8716\n",
            "Epoch 15/20\n",
            "30/30 [==============================] - 1s 34ms/step - loss: 0.0166 - accuracy: 0.9974 - val_loss: 0.6103 - val_accuracy: 0.8547\n",
            "Epoch 16/20\n",
            "30/30 [==============================] - 1s 33ms/step - loss: 0.0113 - accuracy: 0.9994 - val_loss: 0.5779 - val_accuracy: 0.8624\n",
            "Epoch 17/20\n",
            "30/30 [==============================] - 1s 34ms/step - loss: 0.0111 - accuracy: 0.9989 - val_loss: 0.5853 - val_accuracy: 0.8685\n",
            "Epoch 18/20\n",
            "30/30 [==============================] - 1s 33ms/step - loss: 0.0079 - accuracy: 0.9995 - val_loss: 0.6120 - val_accuracy: 0.8672\n",
            "Epoch 19/20\n",
            "30/30 [==============================] - 1s 34ms/step - loss: 0.0072 - accuracy: 0.9992 - val_loss: 0.6435 - val_accuracy: 0.8663\n",
            "Epoch 20/20\n",
            "30/30 [==============================] - 1s 33ms/step - loss: 0.0034 - accuracy: 0.9999 - val_loss: 0.6764 - val_accuracy: 0.8655\n"
          ],
          "name": "stdout"
        }
      ]
    },
    {
      "cell_type": "markdown",
      "metadata": {
        "id": "pkMGXOPQcyG7"
      },
      "source": [
        "### 훈련 성과 그래프로 나타내기"
      ]
    },
    {
      "cell_type": "code",
      "metadata": {
        "id": "Gx53fTsvYbEr"
      },
      "source": [
        "import matplotlib.pyplot as plt\n",
        "\n",
        "history_dict = history.history"
      ],
      "execution_count": 41,
      "outputs": []
    },
    {
      "cell_type": "code",
      "metadata": {
        "id": "SQR7auLzb5Yc",
        "outputId": "a5ddb8e1-4e8f-4a23-87c4-478459078c73",
        "colab": {
          "base_uri": "https://localhost:8080/"
        }
      },
      "source": [
        "history_dict.keys()"
      ],
      "execution_count": 43,
      "outputs": [
        {
          "output_type": "execute_result",
          "data": {
            "text/plain": [
              "dict_keys(['loss', 'accuracy', 'val_loss', 'val_accuracy'])"
            ]
          },
          "metadata": {
            "tags": []
          },
          "execution_count": 43
        }
      ]
    },
    {
      "cell_type": "markdown",
      "metadata": {
        "id": "feZg63Cccw4X"
      },
      "source": [
        "Loss 그래프"
      ]
    },
    {
      "cell_type": "code",
      "metadata": {
        "id": "r2u6Zy24b7tq",
        "outputId": "08698051-8968-46c0-a830-ba1f03a18125",
        "colab": {
          "base_uri": "https://localhost:8080/",
          "height": 295
        }
      },
      "source": [
        "loss = history_dict['loss']\n",
        "val_loss = history_dict['val_loss']\n",
        "\n",
        "epochs = range(1, len(loss) + 1)\n",
        "plt.plot(epochs, loss, 'bo', label = 'Training Loss')\n",
        "plt.plot(epochs, val_loss, 'b', label = 'Validation Loss')\n",
        "plt.title('Training and Validation Loss')\n",
        "plt.xlabel('Epochs')\n",
        "plt.ylabel('Loss')\n",
        "plt.legend()\n",
        "\n",
        "plt.show()"
      ],
      "execution_count": 44,
      "outputs": [
        {
          "output_type": "display_data",
          "data": {
            "image/png": "[encoded data removed]",
            "text/plain": [
              "<Figure size 432x288 with 1 Axes>"
            ]
          },
          "metadata": {
            "tags": [],
            "needs_background": "light"
          }
        }
      ]
    },
    {
      "cell_type": "code",
      "metadata": {
        "id": "_fT9cm58co9M",
        "outputId": "e40c7d68-998b-4e5b-a596-d9b18cbc5b21",
        "colab": {
          "base_uri": "https://localhost:8080/",
          "height": 295
        }
      },
      "source": [
        "acc = history_dict['accuracy']\n",
        "val_acc = history_dict['val_accuracy']\n",
        "\n",
        "epochs = range(1, len(loss) + 1)\n",
        "plt.plot(epochs, acc, 'bo', label = 'Training Accuracy')\n",
        "plt.plot(epochs, val_acc, 'b', label = 'Validation Accuracy')\n",
        "plt.title('Training and Validation accuracy')\n",
        "plt.xlabel('Epochs')\n",
        "plt.ylabel('Accuracy')\n",
        "plt.legend()\n",
        "\n",
        "plt.show()"
      ],
      "execution_count": 45,
      "outputs": [
        {
          "output_type": "display_data",
          "data": {
            "image/png": "[encoded data removed]",
            "text/plain": [
              "<Figure size 432x288 with 1 Axes>"
            ]
          },
          "metadata": {
            "tags": [],
            "needs_background": "light"
          }
        }
      ]
    },
    {
      "cell_type": "markdown",
      "metadata": {
        "id": "LXYxOY5CdYU2"
      },
      "source": [
        "여기서 나타난 바론 Epoch가 3 정도만 넘어가도 과대 적합이 나타난다. 그렇다면 에포크 수를 줄여서 처음부터 훈련을 시켜보도록 하자."
      ]
    },
    {
      "cell_type": "code",
      "metadata": {
        "id": "mvUj7JhldKaW",
        "outputId": "380cc4de-b49e-4120-bfd7-ea1c62c63833",
        "colab": {
          "base_uri": "https://localhost:8080/"
        }
      },
      "source": [
        "bin_model2 = models.Sequential()\n",
        "bin_model2.add(layers.Dense(16, activation = 'relu', input_shape = (10000, )))\n",
        "bin_model2.add(layers.Dense(16, activation = 'relu'))\n",
        "bin_model2.add(layers.Dense(1, activation ='sigmoid'))\n",
        "bin_model2.compile(optimizer = 'rmsprop',\n",
        "                  loss = 'binary_crossentropy',\n",
        "                  metrics=['accuracy'])\n",
        "bin_model2.fit(x_train, y_train, epochs = 4, batch_size= 512)\n",
        "results = bin_model2.evaluate(x_test, y_test)"
      ],
      "execution_count": 46,
      "outputs": [
        {
          "output_type": "stream",
          "text": [
            "Epoch 1/4\n",
            "49/49 [==============================] - 1s 27ms/step - loss: 0.4561 - accuracy: 0.8210\n",
            "Epoch 2/4\n",
            "49/49 [==============================] - 1s 27ms/step - loss: 0.2675 - accuracy: 0.9071\n",
            "Epoch 3/4\n",
            "49/49 [==============================] - 1s 27ms/step - loss: 0.2046 - accuracy: 0.9268\n",
            "Epoch 4/4\n",
            "49/49 [==============================] - 1s 27ms/step - loss: 0.1707 - accuracy: 0.9389\n",
            "782/782 [==============================] - 1s 2ms/step - loss: 0.2973 - accuracy: 0.8822\n"
          ],
          "name": "stdout"
        }
      ]
    },
    {
      "cell_type": "code",
      "metadata": {
        "id": "HuglJNQ6eLDT",
        "outputId": "686de194-4008-4fa3-a426-a596b3d95c5a",
        "colab": {
          "base_uri": "https://localhost:8080/"
        }
      },
      "source": [
        "results = bin_model.evaluate(x_test, y_test)\n",
        "results2 = bin_model2.evaluate(x_test, y_test)"
      ],
      "execution_count": 47,
      "outputs": [
        {
          "output_type": "stream",
          "text": [
            "782/782 [==============================] - 1s 2ms/step - loss: 0.7344 - accuracy: 0.8537\n",
            "782/782 [==============================] - 1s 2ms/step - loss: 0.2973 - accuracy: 0.8822\n"
          ],
          "name": "stdout"
        }
      ]
    },
    {
      "cell_type": "markdown",
      "metadata": {
        "id": "0HUZlKP0efMB"
      },
      "source": [
        "20 epoch만큼 훈련시킨 모델보다 4 epoch만큼 훈련시킨 모델이 test set에서의 accuracy가 더 높은 것을 확인할 수 있다."
      ]
    },
    {
      "cell_type": "markdown",
      "metadata": {
        "id": "-wUE31K1e2X-"
      },
      "source": [
        "## 추가 실험\n",
        "교재 p116에서 제안하는 추가 실험을 진행해보자."
      ]
    },
    {
      "cell_type": "code",
      "metadata": {
        "id": "_5h_BK1jfmx1"
      },
      "source": [
        "def make_eval_plot(history):\n",
        "  history_dict = history.history\n",
        "  acc = history_dict['accuracy']\n",
        "  val_acc = history_dict['val_accuracy']\n",
        "  loss = history_dict['loss']\n",
        "  val_loss = history_dict['val_loss']\n",
        "\n",
        "  plt.subplot(1,2,1)\n",
        "  epochs = range(1, len(loss) + 1)\n",
        "  plt.plot(epochs, loss, 'bo', label = 'Training Loss')\n",
        "  plt.plot(epochs, val_loss, 'b', label = 'Validation Loss')\n",
        "  plt.title('Loss')\n",
        "  plt.xlabel('Epochs')\n",
        "  plt.ylabel('Loss')\n",
        "  plt.legend()\n",
        " \n",
        "  plt.subplot(1,2,2)\n",
        "  epochs = range(1, len(loss) + 1)\n",
        "  plt.plot(epochs, acc, 'bo', label = 'Training Accuracy')\n",
        "  plt.plot(epochs, val_acc, 'b', label = 'Validation Accuracy')\n",
        "  plt.title('accuracy')\n",
        "  plt.xlabel('Epochs')\n",
        "  plt.ylabel('Accuracy')\n",
        "  plt.legend()\n",
        "\n",
        "\n",
        "  plt.show()"
      ],
      "execution_count": 52,
      "outputs": []
    },
    {
      "cell_type": "code",
      "metadata": {
        "id": "2_CuhMl7gWBQ",
        "outputId": "8a6bc6b6-8035-4c86-cc6f-d742e207c65d",
        "colab": {
          "base_uri": "https://localhost:8080/",
          "height": 295
        }
      },
      "source": [
        "make_eval_plot(history)"
      ],
      "execution_count": 53,
      "outputs": [
        {
          "output_type": "display_data",
          "data": {
            "image/png": "[encoded data removed]",
            "text/plain": [
              "<Figure size 432x288 with 2 Axes>"
            ]
          },
          "metadata": {
            "tags": [],
            "needs_background": "light"
          }
        }
      ]
    },
    {
      "cell_type": "markdown",
      "metadata": {
        "id": "etdDLJuCfGnc"
      },
      "source": [
        "### layer 1개 혹은 layer 3개를 가진 모델"
      ]
    },
    {
      "cell_type": "code",
      "metadata": {
        "id": "u4mo2v-ee8JO",
        "outputId": "1e315808-20ac-408f-dd0e-f0ba34bf474c",
        "colab": {
          "base_uri": "https://localhost:8080/",
          "height": 1000
        }
      },
      "source": [
        "modelA = models.Sequential()\n",
        "modelA.add(layers.Dense(16, activation = 'relu', input_shape = (10000, )))\n",
        "modelA.add(layers.Dense(1, activation ='sigmoid'))\n",
        "modelA.compile(optimizer = 'rmsprop',\n",
        "                  loss = 'binary_crossentropy',\n",
        "                  metrics=['accuracy'])\n",
        "history = modelA.fit(partial_x_train, partial_y_train, epochs = 20, batch_size= 512, validation_data = (x_val, y_val))\n",
        "make_eval_plot(history)"
      ],
      "execution_count": 56,
      "outputs": [
        {
          "output_type": "stream",
          "text": [
            "Epoch 1/20\n",
            "30/30 [==============================] - 1s 40ms/step - loss: 0.5011 - accuracy: 0.8001 - val_loss: 0.3986 - val_accuracy: 0.8647\n",
            "Epoch 2/20\n",
            "30/30 [==============================] - 1s 30ms/step - loss: 0.3225 - accuracy: 0.9040 - val_loss: 0.3223 - val_accuracy: 0.8846\n",
            "Epoch 3/20\n",
            "30/30 [==============================] - 1s 31ms/step - loss: 0.2486 - accuracy: 0.9250 - val_loss: 0.2926 - val_accuracy: 0.8900\n",
            "Epoch 4/20\n",
            "30/30 [==============================] - 1s 31ms/step - loss: 0.2042 - accuracy: 0.9385 - val_loss: 0.2800 - val_accuracy: 0.8890\n",
            "Epoch 5/20\n",
            "30/30 [==============================] - 1s 31ms/step - loss: 0.1729 - accuracy: 0.9485 - val_loss: 0.2932 - val_accuracy: 0.8836\n",
            "Epoch 6/20\n",
            "30/30 [==============================] - 1s 31ms/step - loss: 0.1494 - accuracy: 0.9557 - val_loss: 0.2738 - val_accuracy: 0.8907\n",
            "Epoch 7/20\n",
            "30/30 [==============================] - 1s 30ms/step - loss: 0.1305 - accuracy: 0.9621 - val_loss: 0.2923 - val_accuracy: 0.8860\n",
            "Epoch 8/20\n",
            "30/30 [==============================] - 1s 31ms/step - loss: 0.1155 - accuracy: 0.9675 - val_loss: 0.2865 - val_accuracy: 0.8871\n",
            "Epoch 9/20\n",
            "30/30 [==============================] - 1s 31ms/step - loss: 0.1006 - accuracy: 0.9726 - val_loss: 0.3002 - val_accuracy: 0.8827\n",
            "Epoch 10/20\n",
            "30/30 [==============================] - 1s 30ms/step - loss: 0.0894 - accuracy: 0.9765 - val_loss: 0.3076 - val_accuracy: 0.8845\n",
            "Epoch 11/20\n",
            "30/30 [==============================] - 1s 31ms/step - loss: 0.0786 - accuracy: 0.9809 - val_loss: 0.3337 - val_accuracy: 0.8765\n",
            "Epoch 12/20\n",
            "30/30 [==============================] - 1s 31ms/step - loss: 0.0696 - accuracy: 0.9832 - val_loss: 0.3328 - val_accuracy: 0.8816\n",
            "Epoch 13/20\n",
            "30/30 [==============================] - 1s 31ms/step - loss: 0.0607 - accuracy: 0.9865 - val_loss: 0.3536 - val_accuracy: 0.8763\n",
            "Epoch 14/20\n",
            "30/30 [==============================] - 1s 31ms/step - loss: 0.0538 - accuracy: 0.9888 - val_loss: 0.3622 - val_accuracy: 0.8786\n",
            "Epoch 15/20\n",
            "30/30 [==============================] - 1s 32ms/step - loss: 0.0480 - accuracy: 0.9905 - val_loss: 0.3805 - val_accuracy: 0.8759\n",
            "Epoch 16/20\n",
            "30/30 [==============================] - 1s 31ms/step - loss: 0.0410 - accuracy: 0.9921 - val_loss: 0.3977 - val_accuracy: 0.8740\n",
            "Epoch 17/20\n",
            "30/30 [==============================] - 1s 31ms/step - loss: 0.0366 - accuracy: 0.9936 - val_loss: 0.4145 - val_accuracy: 0.8758\n",
            "Epoch 18/20\n",
            "30/30 [==============================] - 1s 31ms/step - loss: 0.0325 - accuracy: 0.9946 - val_loss: 0.4331 - val_accuracy: 0.8733\n",
            "Epoch 19/20\n",
            "30/30 [==============================] - 1s 31ms/step - loss: 0.0276 - accuracy: 0.9963 - val_loss: 0.4536 - val_accuracy: 0.8733\n",
            "Epoch 20/20\n",
            "30/30 [==============================] - 1s 31ms/step - loss: 0.0247 - accuracy: 0.9971 - val_loss: 0.4739 - val_accuracy: 0.8699\n"
          ],
          "name": "stdout"
        },
        {
          "output_type": "display_data",
          "data": {
            "image/png": "[encoded data removed]",
            "text/plain": [
              "<Figure size 432x288 with 2 Axes>"
            ]
          },
          "metadata": {
            "tags": [],
            "needs_background": "light"
          }
        }
      ]
    },
    {
      "cell_type": "code",
      "metadata": {
        "id": "HoMOtDjvgwIH",
        "outputId": "8c599cf3-dbb8-4765-c071-b6eb905db5c2",
        "colab": {
          "base_uri": "https://localhost:8080/",
          "height": 1000
        }
      },
      "source": [
        "modelB = models.Sequential()\n",
        "modelB.add(layers.Dense(16, activation = 'relu', input_shape = (10000, )))\n",
        "modelB.add(layers.Dense(16, activation ='relu'))\n",
        "modelB.add(layers.Dense(16, activation ='relu'))\n",
        "modelB.add(layers.Dense(1, activation ='sigmoid'))\n",
        "modelB.compile(optimizer = 'rmsprop',\n",
        "                  loss = 'binary_crossentropy',\n",
        "                  metrics=['accuracy'])\n",
        "history = modelB.fit(partial_x_train, partial_y_train, epochs = 20, batch_size= 512, validation_data = (x_val, y_val))\n",
        "make_eval_plot(history)"
      ],
      "execution_count": 55,
      "outputs": [
        {
          "output_type": "stream",
          "text": [
            "Epoch 1/20\n",
            "30/30 [==============================] - 1s 42ms/step - loss: 0.5202 - accuracy: 0.7824 - val_loss: 0.3959 - val_accuracy: 0.8628\n",
            "Epoch 2/20\n",
            "30/30 [==============================] - 1s 33ms/step - loss: 0.3054 - accuracy: 0.9035 - val_loss: 0.3252 - val_accuracy: 0.8707\n",
            "Epoch 3/20\n",
            "30/30 [==============================] - 1s 34ms/step - loss: 0.2191 - accuracy: 0.9286 - val_loss: 0.2938 - val_accuracy: 0.8825\n",
            "Epoch 4/20\n",
            "30/30 [==============================] - 1s 33ms/step - loss: 0.1712 - accuracy: 0.9443 - val_loss: 0.2788 - val_accuracy: 0.8891\n",
            "Epoch 5/20\n",
            "30/30 [==============================] - 1s 33ms/step - loss: 0.1419 - accuracy: 0.9540 - val_loss: 0.3073 - val_accuracy: 0.8817\n",
            "Epoch 6/20\n",
            "30/30 [==============================] - 1s 33ms/step - loss: 0.1146 - accuracy: 0.9643 - val_loss: 0.3085 - val_accuracy: 0.8799\n",
            "Epoch 7/20\n",
            "30/30 [==============================] - 1s 33ms/step - loss: 0.0985 - accuracy: 0.9690 - val_loss: 0.3233 - val_accuracy: 0.8823\n",
            "Epoch 8/20\n",
            "30/30 [==============================] - 1s 34ms/step - loss: 0.0772 - accuracy: 0.9783 - val_loss: 0.3670 - val_accuracy: 0.8740\n",
            "Epoch 9/20\n",
            "30/30 [==============================] - 1s 33ms/step - loss: 0.0642 - accuracy: 0.9830 - val_loss: 0.4163 - val_accuracy: 0.8650\n",
            "Epoch 10/20\n",
            "30/30 [==============================] - 1s 33ms/step - loss: 0.0579 - accuracy: 0.9831 - val_loss: 0.3971 - val_accuracy: 0.8751\n",
            "Epoch 11/20\n",
            "30/30 [==============================] - 1s 34ms/step - loss: 0.0406 - accuracy: 0.9905 - val_loss: 0.4755 - val_accuracy: 0.8627\n",
            "Epoch 12/20\n",
            "30/30 [==============================] - 1s 33ms/step - loss: 0.0342 - accuracy: 0.9923 - val_loss: 0.4712 - val_accuracy: 0.8648\n",
            "Epoch 13/20\n",
            "30/30 [==============================] - 1s 34ms/step - loss: 0.0277 - accuracy: 0.9943 - val_loss: 0.4847 - val_accuracy: 0.8721\n",
            "Epoch 14/20\n",
            "30/30 [==============================] - 1s 33ms/step - loss: 0.0234 - accuracy: 0.9951 - val_loss: 0.5253 - val_accuracy: 0.8683\n",
            "Epoch 15/20\n",
            "30/30 [==============================] - 1s 34ms/step - loss: 0.0170 - accuracy: 0.9970 - val_loss: 0.5537 - val_accuracy: 0.8683\n",
            "Epoch 16/20\n",
            "30/30 [==============================] - 1s 33ms/step - loss: 0.0144 - accuracy: 0.9973 - val_loss: 0.5840 - val_accuracy: 0.8689\n",
            "Epoch 17/20\n",
            "30/30 [==============================] - 1s 33ms/step - loss: 0.0148 - accuracy: 0.9963 - val_loss: 0.6261 - val_accuracy: 0.8663\n",
            "Epoch 18/20\n",
            "30/30 [==============================] - 1s 33ms/step - loss: 0.0050 - accuracy: 0.9999 - val_loss: 0.6733 - val_accuracy: 0.8623\n",
            "Epoch 19/20\n",
            "30/30 [==============================] - 1s 33ms/step - loss: 0.0113 - accuracy: 0.9966 - val_loss: 0.6950 - val_accuracy: 0.8640\n",
            "Epoch 20/20\n",
            "30/30 [==============================] - 1s 33ms/step - loss: 0.0029 - accuracy: 0.9999 - val_loss: 0.7308 - val_accuracy: 0.8631\n"
          ],
          "name": "stdout"
        },
        {
          "output_type": "display_data",
          "data": {
            "image/png": "[encoded data removed]",
            "text/plain": [
              "<Figure size 432x288 with 2 Axes>"
            ]
          },
          "metadata": {
            "tags": [],
            "needs_background": "light"
          }
        }
      ]
    },
    {
      "cell_type": "markdown",
      "metadata": {
        "id": "AWKZB6SPoif1"
      },
      "source": [
        "layer의 깊이에 따라 overfitting의 정도가 어떻게 달라지는지 관찰하고 싶어서 해 봤는데, 잘 모르겠다."
      ]
    },
    {
      "cell_type": "code",
      "metadata": {
        "id": "aW1Q_aMphDth",
        "outputId": "1bf52e42-07c7-4919-f5b7-a555cf675120",
        "colab": {
          "base_uri": "https://localhost:8080/"
        }
      },
      "source": [
        "modelA = models.Sequential()\n",
        "modelA.add(layers.Dense(16, activation = 'relu', input_shape = (10000, )))\n",
        "modelA.add(layers.Dense(1, activation ='sigmoid'))\n",
        "modelA.compile(optimizer = 'rmsprop',\n",
        "                  loss = 'binary_crossentropy',\n",
        "                  metrics=['accuracy'])\n",
        "modelB.fit(x_train, y_train, epochs = 3, batch_size= 512)\n",
        "\n",
        "modelB = models.Sequential()\n",
        "modelB.add(layers.Dense(16, activation = 'relu', input_shape = (10000, )))\n",
        "modelB.add(layers.Dense(16, activation ='relu'))\n",
        "modelB.add(layers.Dense(16, activation ='relu'))\n",
        "modelB.add(layers.Dense(1, activation ='sigmoid'))\n",
        "modelB.compile(optimizer = 'rmsprop',\n",
        "                  loss = 'binary_crossentropy',\n",
        "                  metrics=['accuracy'])\n",
        "modelB.fit(x_train, y_train, epochs = 3, batch_size= 512, validation_data = (x_val, y_val))"
      ],
      "execution_count": 60,
      "outputs": [
        {
          "output_type": "stream",
          "text": [
            "Epoch 1/3\n",
            "49/49 [==============================] - 1s 26ms/step - loss: 0.1984 - accuracy: 0.9286\n",
            "Epoch 2/3\n",
            "49/49 [==============================] - 1s 25ms/step - loss: 0.1690 - accuracy: 0.9396\n",
            "Epoch 3/3\n",
            "49/49 [==============================] - 1s 25ms/step - loss: 0.1465 - accuracy: 0.9473\n",
            "Epoch 1/3\n",
            "49/49 [==============================] - 2s 34ms/step - loss: 0.4465 - accuracy: 0.8225 - val_loss: 0.2906 - val_accuracy: 0.8978\n",
            "Epoch 2/3\n",
            "49/49 [==============================] - 1s 28ms/step - loss: 0.2531 - accuracy: 0.9103 - val_loss: 0.1818 - val_accuracy: 0.9452\n",
            "Epoch 3/3\n",
            "49/49 [==============================] - 1s 28ms/step - loss: 0.1965 - accuracy: 0.9292 - val_loss: 0.1409 - val_accuracy: 0.9584\n"
          ],
          "name": "stdout"
        },
        {
          "output_type": "execute_result",
          "data": {
            "text/plain": [
              "<tensorflow.python.keras.callbacks.History at 0x7f64958d5780>"
            ]
          },
          "metadata": {
            "tags": []
          },
          "execution_count": 60
        }
      ]
    },
    {
      "cell_type": "code",
      "metadata": {
        "id": "-22yz2bTpLpp",
        "outputId": "0c460eac-6728-4354-8bc4-3d66c7e9b3a8",
        "colab": {
          "base_uri": "https://localhost:8080/"
        }
      },
      "source": [
        "modelA.evaluate(x_test, y_test)\n",
        "modelB.evaluate(x_test, y_test)"
      ],
      "execution_count": 61,
      "outputs": [
        {
          "output_type": "stream",
          "text": [
            "782/782 [==============================] - 1s 2ms/step - loss: 0.6900 - accuracy: 0.5321\n",
            "782/782 [==============================] - 1s 2ms/step - loss: 0.2893 - accuracy: 0.8842\n"
          ],
          "name": "stdout"
        },
        {
          "output_type": "execute_result",
          "data": {
            "text/plain": [
              "[0.2892708480358124, 0.8842399716377258]"
            ]
          },
          "metadata": {
            "tags": []
          },
          "execution_count": 61
        }
      ]
    },
    {
      "cell_type": "markdown",
      "metadata": {
        "id": "7zoRgSd3pmTo"
      },
      "source": [
        "layer가 1개 뿐이었던 모델은 훈련할 때의 accuracy는 나쁘지 않았는데 test data에서의 성과는 확실히 좋지 않다."
      ]
    },
    {
      "cell_type": "code",
      "metadata": {
        "id": "Z_NH9UY_pP1z",
        "outputId": "7e56fe4b-a738-46d6-c765-92c28c8e41d9",
        "colab": {
          "base_uri": "https://localhost:8080/"
        }
      },
      "source": [
        "modelC = models.Sequential()\n",
        "modelC.add(layers.Dense(32, activation = 'relu', input_shape = (10000, )))\n",
        "modelB.add(layers.Dense(32, activation ='relu'))\n",
        "modelC.add(layers.Dense(1, activation ='sigmoid'))\n",
        "modelC.compile(optimizer = 'rmsprop',\n",
        "                  loss = 'binary_crossentropy',\n",
        "                  metrics=['accuracy'])\n",
        "modelC.fit(x_train, y_train, epochs = 3, batch_size= 512)"
      ],
      "execution_count": 64,
      "outputs": [
        {
          "output_type": "stream",
          "text": [
            "Epoch 1/3\n",
            "49/49 [==============================] - 2s 33ms/step - loss: 0.4179 - accuracy: 0.8292\n",
            "Epoch 2/3\n",
            "49/49 [==============================] - 2s 32ms/step - loss: 0.2488 - accuracy: 0.9120\n",
            "Epoch 3/3\n",
            "49/49 [==============================] - 2s 34ms/step - loss: 0.2001 - accuracy: 0.9292\n"
          ],
          "name": "stdout"
        },
        {
          "output_type": "execute_result",
          "data": {
            "text/plain": [
              "<tensorflow.python.keras.callbacks.History at 0x7f6494a84ba8>"
            ]
          },
          "metadata": {
            "tags": []
          },
          "execution_count": 64
        }
      ]
    },
    {
      "cell_type": "code",
      "metadata": {
        "id": "bjJtrtEmqlb8",
        "outputId": "2af3cae2-4fa8-4682-feef-bc83e03e324c",
        "colab": {
          "base_uri": "https://localhost:8080/"
        }
      },
      "source": [
        "modelC.evaluate(x_test, y_test)"
      ],
      "execution_count": 65,
      "outputs": [
        {
          "output_type": "stream",
          "text": [
            "782/782 [==============================] - 2s 2ms/step - loss: 0.2818 - accuracy: 0.8884\n"
          ],
          "name": "stdout"
        },
        {
          "output_type": "execute_result",
          "data": {
            "text/plain": [
              "[0.2817860543727875, 0.8883600234985352]"
            ]
          },
          "metadata": {
            "tags": []
          },
          "execution_count": 65
        }
      ]
    },
    {
      "cell_type": "markdown",
      "metadata": {
        "id": "-We4EzvNrEop"
      },
      "source": [
        "레이어 두 개, 은닉 유닛 32로 늘렸을 때 학습에 걸리는 시간이 늘지만 accuracy는 늘어났음을 볼 수 있었다."
      ]
    }
  ]
}